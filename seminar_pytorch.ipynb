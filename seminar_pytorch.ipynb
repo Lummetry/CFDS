{
 "cells": [
  {
   "cell_type": "code",
   "execution_count": 15,
   "metadata": {},
   "outputs": [
    {
     "data": {
      "text/plain": [
       "'1.4.0'"
      ]
     },
     "execution_count": 15,
     "metadata": {},
     "output_type": "execute_result"
    }
   ],
   "source": [
    "import torch as th\n",
    "th.__version__"
   ]
  },
  {
   "cell_type": "code",
   "execution_count": 16,
   "metadata": {},
   "outputs": [],
   "source": [
    "import pandas as pd"
   ]
  },
  {
   "cell_type": "code",
   "execution_count": 17,
   "metadata": {},
   "outputs": [
    {
     "data": {
      "text/plain": [
       "(90496, 593)"
      ]
     },
     "execution_count": 17,
     "metadata": {},
     "output_type": "execute_result"
    }
   ],
   "source": [
    "DATA_FILE = 'datasets/cars_sample.csv.zip'\n",
    "df = pd.read_csv(DATA_FILE)\n",
    "_ = df.pop('model')\n",
    "y = df.pop('price')\n",
    "categ_columns = ['region', 'year', 'manufacturer', 'condition', 'cylinders',\n",
    "       'fuel', 'transmission', 'drive', 'size', 'type',\n",
    "       'paint_color']\n",
    "df_sparse = pd.get_dummies(df, columns=categ_columns)\n",
    "df_sparse.shape"
   ]
  },
  {
   "cell_type": "code",
   "execution_count": 18,
   "metadata": {},
   "outputs": [
    {
     "data": {
      "text/plain": [
       "(90396, 593)"
      ]
     },
     "execution_count": 18,
     "metadata": {},
     "output_type": "execute_result"
    }
   ],
   "source": [
    "X_train = X[:-100]\n",
    "y_train = y[:-100]\n",
    "X_test = X[-100:]\n",
    "y_test = y[-100:]\n",
    "X_train.shape"
   ]
  },
  {
   "cell_type": "code",
   "execution_count": 19,
   "metadata": {},
   "outputs": [],
   "source": [
    "class SimpleNN(th.nn.Module):\n",
    "    def __init__(self, n_inputs=593, n_h1=256, n_h2=128, n_h3=64):\n",
    "        super().__init__()\n",
    "        self.layer1 = th.nn.Linear(n_inputs, n_h1)\n",
    "        self.act1 = th.nn.ReLU() # f(x) = max(0, x)\n",
    "        self.layer2 = th.nn.Linear(n_h1, n_h2)\n",
    "        self.act2 = th.nn.ReLU()\n",
    "        self.layer3 = th.nn.Linear(n_h2, n_h3)\n",
    "        self.act3 = th.nn.ReLU()\n",
    "        self.readout = th.nn.Linear(n_h3, 1)\n",
    "        return\n",
    "    \n",
    "    def forward(self, inputs):\n",
    "        th_x = self.layer1(inputs)\n",
    "        th_x = self.act1(th_x)\n",
    "\n",
    "        th_x = self.layer2(th_x)\n",
    "        th_x = self.act2(th_x)\n",
    "\n",
    "        th_x = self.layer3(th_x)\n",
    "        th_x = self.act3(th_x)\n",
    "        \n",
    "        return self.readout(th_x)     \n",
    "        "
   ]
  },
  {
   "cell_type": "code",
   "execution_count": 20,
   "metadata": {},
   "outputs": [
    {
     "data": {
      "text/plain": [
       "SimpleNN(\n",
       "  (layer1): Linear(in_features=593, out_features=256, bias=True)\n",
       "  (act1): ReLU()\n",
       "  (layer2): Linear(in_features=256, out_features=128, bias=True)\n",
       "  (act2): ReLU()\n",
       "  (layer3): Linear(in_features=128, out_features=64, bias=True)\n",
       "  (act3): ReLU()\n",
       "  (readout): Linear(in_features=64, out_features=1, bias=True)\n",
       ")"
      ]
     },
     "execution_count": 20,
     "metadata": {},
     "output_type": "execute_result"
    }
   ],
   "source": [
    "model = SimpleNN()\n",
    "model"
   ]
  },
  {
   "cell_type": "markdown",
   "metadata": {},
   "source": [
    "create a torch th.util.Dataset that we can iterate into with the training loop"
   ]
  },
  {
   "cell_type": "code",
   "execution_count": null,
   "metadata": {},
   "outputs": [],
   "source": []
  },
  {
   "cell_type": "markdown",
   "metadata": {},
   "source": [
    "iterate through batch of observations (records) and optimize using back-propagation\n",
    "```\n",
    " define optimizer\n",
    " for epoch in range of epochs:\n",
    "   for batch in dataset batches:\n",
    "     compute loss with forward propagation\n",
    "     compute grad of the loss wrt model parameters\n",
    "     apply grad with optimizer\n",
    "    test model after epoch\n",
    "```"
   ]
  },
  {
   "cell_type": "code",
   "execution_count": null,
   "metadata": {},
   "outputs": [],
   "source": []
  },
  {
   "cell_type": "code",
   "execution_count": null,
   "metadata": {},
   "outputs": [],
   "source": []
  }
 ],
 "metadata": {
  "kernelspec": {
   "display_name": "Python 3",
   "language": "python",
   "name": "python3"
  },
  "language_info": {
   "codemirror_mode": {
    "name": "ipython",
    "version": 3
   },
   "file_extension": ".py",
   "mimetype": "text/x-python",
   "name": "python",
   "nbconvert_exporter": "python",
   "pygments_lexer": "ipython3",
   "version": "3.7.4"
  }
 },
 "nbformat": 4,
 "nbformat_minor": 4
}
